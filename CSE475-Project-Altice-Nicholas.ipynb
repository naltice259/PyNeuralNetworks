{
  "cells": [
    {
      "cell_type": "markdown",
      "metadata": {
        "id": "tiwilugkUC9X"
      },
      "source": [
        "# CSE475 Project, Due: Monday, 05/02/2022"
      ]
    },
    {
      "cell_type": "markdown",
      "metadata": {
        "id": "JJr7btytUC9d"
      },
      "source": [
        "## Instruction\n",
        "\n",
        "1. Please submit your Jupyter Notebook file (the. ipynb file) containing your code and the outputs produced by your code (note that .ipynb file can contain both the code and the outputs) to Canvas. Please name your file CSE475-Project-LastName-FirstName.ipynb.\n",
        "\n",
        "2. If you have any questions on the homework problems, you should post your question on the Canvas discussion board (under Project Q&A), instead of sending emails to the instructor or TA. We will answer your questions there. In this way, we can avoid repeated questions, and help the entire class stay on the same page whenever any clarification/correction is made."
      ]
    },
    {
      "cell_type": "markdown",
      "metadata": {
        "id": "-X-FI2OrUC9f"
      },
      "source": [
        "## Handwritten Image Classifiation with Keras using MNIST and Fashion MNIST data\n",
        "\n",
        "In this project, we will work with image data, the famous MNIST and Fashion MNIST data sets.  MNIST data set contains 70,000 images of handwritten digits (0-9) in grayscale (0=black, 255 = white). Fashion MNIST data set contains 70,000 images of clothing in grayscale (0=black, 255 = white). All the images are 28 pixels by 28 pixels for a total of 784 pixels. This is quite small by image standards. Also, the images are well centered and isolated. <br><br>\n",
        "We will use a Convolutional Neural Network and compare it with a linear neural network. "
      ]
    },
    {
      "cell_type": "markdown",
      "metadata": {
        "id": "0ZErw6jgUC9g"
      },
      "source": [
        "### In the first part of this project, we will walk you through loading the data, building a neural network, and training it.  Then it will be your turn to work on different models."
      ]
    },
    {
      "cell_type": "code",
      "execution_count": 2,
      "metadata": {
        "id": "J3io92NeUC9h"
      },
      "outputs": [],
      "source": [
        "# Preliminaries\n",
        "\n",
        "from __future__ import print_function\n",
        "import keras\n",
        "from keras.datasets import mnist\n",
        "from keras.models import Sequential\n",
        "from keras.layers import Dense, Dropout, Conv2D, MaxPooling2D, Flatten\n",
        "from tensorflow.keras.optimizers import RMSprop\n",
        "from keras.utils import np_utils\n",
        "from keras.datasets import fashion_mnist\n",
        "\n",
        "import numpy as np\n",
        "import matplotlib.pyplot as plt\n",
        "%matplotlib inline"
      ]
    },
    {
      "cell_type": "markdown",
      "metadata": {
        "collapsed": true,
        "id": "30tvYwEEUC9j"
      },
      "source": [
        "Let's explore the dataset a little bit"
      ]
    },
    {
      "cell_type": "code",
      "execution_count": 3,
      "metadata": {
        "colab": {
          "base_uri": "https://localhost:8080/"
        },
        "id": "_eU2IAEDUC9k",
        "outputId": "06e7f1a9-d53c-47ff-b850-b267e33ef9ad"
      },
      "outputs": [
        {
          "output_type": "stream",
          "name": "stdout",
          "text": [
            "Downloading data from https://storage.googleapis.com/tensorflow/tf-keras-datasets/mnist.npz\n",
            "11493376/11490434 [==============================] - 0s 0us/step\n",
            "11501568/11490434 [==============================] - 0s 0us/step\n"
          ]
        }
      ],
      "source": [
        "# Load the data, shuffled and split between train and test sets\n",
        "(x_train, y_train), (x_test, y_test) = mnist.load_data()"
      ]
    },
    {
      "cell_type": "code",
      "execution_count": 4,
      "metadata": {
        "colab": {
          "base_uri": "https://localhost:8080/"
        },
        "id": "75Yx5Cv4UC9l",
        "outputId": "6ff4a02a-53cc-4071-b636-e9645e12bbd8"
      },
      "outputs": [
        {
          "output_type": "execute_result",
          "data": {
            "text/plain": [
              "(60000, 28, 28)"
            ]
          },
          "metadata": {},
          "execution_count": 4
        }
      ],
      "source": [
        "x_train.shape"
      ]
    },
    {
      "cell_type": "markdown",
      "metadata": {
        "id": "qKn448tFUC9n"
      },
      "source": [
        "Let's just look at a particular example to see what is inside"
      ]
    },
    {
      "cell_type": "code",
      "execution_count": 5,
      "metadata": {
        "colab": {
          "base_uri": "https://localhost:8080/"
        },
        "id": "ugPEfO40UC9o",
        "outputId": "41c23715-ffae-4643-f4f8-e066e0127a36"
      },
      "outputs": [
        {
          "output_type": "execute_result",
          "data": {
            "text/plain": [
              "array([[  0,   0,   0,   0,   0,   0,   0,   0,   0,   0,   0,   0,   0,\n",
              "          0,   0,   0,   0,   0,   0,   0,   0,   0,   0,   0,   0,   0,\n",
              "          0,   0],\n",
              "       [  0,   0,   0,   0,   0,   0,   0,   0,   0,   0,   0,   0,   0,\n",
              "          0,   0,   0,   0,   0,   0,   0,   0,   0,   0,   0,   0,   0,\n",
              "          0,   0],\n",
              "       [  0,   0,   0,   0,   0,   0,   0,   0,   0,   0,   0,   0,   0,\n",
              "          0,   0,   0,   0,   0,   0,   0,   0,   0,   0,   0,   0,   0,\n",
              "          0,   0],\n",
              "       [  0,   0,   0,   0,   0,   0,   0,   0,   0,   0,   0,   0,   0,\n",
              "          0,   0,   0,   0,   0,   0,   0,   0,   0,   0,   0,   0,   0,\n",
              "          0,   0],\n",
              "       [  0,   0,   0,   0,   0,   0,   0,   0,   0,   0,   0,   0,   0,\n",
              "          0,   0,   0,   0,   0,   0,   0,   0,   0,   0,   0,   0,   0,\n",
              "          0,   0],\n",
              "       [  0,   0,   0,   0,   0,   0,   0,   0,   0,   0,   0,  87, 138,\n",
              "        170, 253, 201, 244, 212, 222, 138,  86,  22,   0,   0,   0,   0,\n",
              "          0,   0],\n",
              "       [  0,   0,   0,   0,   0,   0,   0,   0,   0,   0,  95, 253, 252,\n",
              "        252, 252, 252, 253, 252, 252, 252, 252, 245,  80,   0,   0,   0,\n",
              "          0,   0],\n",
              "       [  0,   0,   0,   0,   0,   0,   0,   0,   0,  68, 246, 205,  69,\n",
              "         69,  69,  69,  69,  69,  69,  69, 205, 253, 240,  50,   0,   0,\n",
              "          0,   0],\n",
              "       [  0,   0,   0,   0,   0,   0,   0,   0,   0, 187, 252, 218,  34,\n",
              "          0,   0,   0,   0,   0,   0,   0, 116, 253, 252,  69,   0,   0,\n",
              "          0,   0],\n",
              "       [  0,   0,   0,   0,   0,   0,   0,   0, 116, 248, 252, 253,  92,\n",
              "          0,   0,   0,   0,   0,   0,  95, 230, 253, 157,   6,   0,   0,\n",
              "          0,   0],\n",
              "       [  0,   0,   0,   0,   0,   0,   0,   0, 116, 249, 253, 189,  42,\n",
              "          0,   0,   0,   0,  36, 170, 253, 243, 158,   0,   0,   0,   0,\n",
              "          0,   0],\n",
              "       [  0,   0,   0,   0,   0,   0,   0,   0,   0, 133, 252, 245, 140,\n",
              "         34,   0,   0,  57, 219, 252, 235,  60,   0,   0,   0,   0,   0,\n",
              "          0,   0],\n",
              "       [  0,   0,   0,   0,   0,   0,   0,   0,   0,  25, 205, 253, 252,\n",
              "        234, 184, 184, 253, 240, 100,  44,   0,   0,   0,   0,   0,   0,\n",
              "          0,   0],\n",
              "       [  0,   0,   0,   0,   0,   0,   0,   0,   0,   0,  21, 161, 219,\n",
              "        252, 252, 252, 234,  37,   0,   0,   0,   0,   0,   0,   0,   0,\n",
              "          0,   0],\n",
              "       [  0,   0,   0,   0,   0,   0,   0,   0,   0,   0,   0,  11, 203,\n",
              "        252, 252, 252, 251, 135,   0,   0,   0,   0,   0,   0,   0,   0,\n",
              "          0,   0],\n",
              "       [  0,   0,   0,   0,   0,   0,   0,   0,   0,   9,  76, 255, 253,\n",
              "        205, 168, 220, 255, 253, 137,   5,   0,   0,   0,   0,   0,   0,\n",
              "          0,   0],\n",
              "       [  0,   0,   0,   0,   0,   0,   0,   0,   0, 114, 252, 249, 132,\n",
              "         25,   0,   0, 180, 252, 252,  45,   0,   0,   0,   0,   0,   0,\n",
              "          0,   0],\n",
              "       [  0,   0,   0,   0,   0,   0,   0,   0,  51, 220, 252, 199,   0,\n",
              "          0,   0,   0,  38, 186, 252, 154,   7,   0,   0,   0,   0,   0,\n",
              "          0,   0],\n",
              "       [  0,   0,   0,   0,   0,   0,   0,   0, 184, 252, 252,  21,   0,\n",
              "          0,   0,   0,   0,  67, 252, 252,  22,   0,   0,   0,   0,   0,\n",
              "          0,   0],\n",
              "       [  0,   0,   0,   0,   0,   0,   0,   0, 184, 252, 200,   0,   0,\n",
              "          0,   0,   0,   0,  47, 252, 252,  22,   0,   0,   0,   0,   0,\n",
              "          0,   0],\n",
              "       [  0,   0,   0,   0,   0,   0,   0,   0, 185, 253, 201,   0,   0,\n",
              "          0,   0,   0,   3, 118, 253, 245,  21,   0,   0,   0,   0,   0,\n",
              "          0,   0],\n",
              "       [  0,   0,   0,   0,   0,   0,   0,   0, 163, 252, 252,   0,   0,\n",
              "          0,   0,   0,  97, 252, 252,  87,   0,   0,   0,   0,   0,   0,\n",
              "          0,   0],\n",
              "       [  0,   0,   0,   0,   0,   0,   0,   0,  51, 240, 252, 123,  70,\n",
              "         70, 112, 184, 222, 252, 170,  13,   0,   0,   0,   0,   0,   0,\n",
              "          0,   0],\n",
              "       [  0,   0,   0,   0,   0,   0,   0,   0,   0, 165, 252, 253, 252,\n",
              "        252, 252, 252, 245, 139,  13,   0,   0,   0,   0,   0,   0,   0,\n",
              "          0,   0],\n",
              "       [  0,   0,   0,   0,   0,   0,   0,   0,   0,   9,  75, 253, 252,\n",
              "        221, 137, 137,  21,   0,   0,   0,   0,   0,   0,   0,   0,   0,\n",
              "          0,   0],\n",
              "       [  0,   0,   0,   0,   0,   0,   0,   0,   0,   0,   0,   0,   0,\n",
              "          0,   0,   0,   0,   0,   0,   0,   0,   0,   0,   0,   0,   0,\n",
              "          0,   0],\n",
              "       [  0,   0,   0,   0,   0,   0,   0,   0,   0,   0,   0,   0,   0,\n",
              "          0,   0,   0,   0,   0,   0,   0,   0,   0,   0,   0,   0,   0,\n",
              "          0,   0],\n",
              "       [  0,   0,   0,   0,   0,   0,   0,   0,   0,   0,   0,   0,   0,\n",
              "          0,   0,   0,   0,   0,   0,   0,   0,   0,   0,   0,   0,   0,\n",
              "          0,   0]], dtype=uint8)"
            ]
          },
          "metadata": {},
          "execution_count": 5
        }
      ],
      "source": [
        "x_train[333]  ## Just a 28 x 28 numpy array of ints from 0 to 255"
      ]
    },
    {
      "cell_type": "code",
      "execution_count": 6,
      "metadata": {
        "colab": {
          "base_uri": "https://localhost:8080/"
        },
        "id": "G84g6df3UC9o",
        "outputId": "cc9f5e2c-35be-4c18-ed78-d2d6ab683842"
      },
      "outputs": [
        {
          "output_type": "execute_result",
          "data": {
            "text/plain": [
              "8"
            ]
          },
          "metadata": {},
          "execution_count": 6
        }
      ],
      "source": [
        "# What is the corresponding label in the training set?\n",
        "y_train[333]"
      ]
    },
    {
      "cell_type": "code",
      "execution_count": 7,
      "metadata": {
        "colab": {
          "base_uri": "https://localhost:8080/",
          "height": 283
        },
        "id": "RYx4KuHOUC9p",
        "outputId": "2e414387-d19e-4875-d0d5-91f24acdb73b"
      },
      "outputs": [
        {
          "output_type": "execute_result",
          "data": {
            "text/plain": [
              "<matplotlib.image.AxesImage at 0x7f6befc15450>"
            ]
          },
          "metadata": {},
          "execution_count": 7
        },
        {
          "output_type": "display_data",
          "data": {
            "text/plain": [
              "<Figure size 432x288 with 1 Axes>"
            ],
            "image/png": "[encoded data removed]"
          },
          "metadata": {
            "needs_background": "light"
          }
        }
      ],
      "source": [
        "# Let's see what this image actually looks like\n",
        "\n",
        "plt.imshow(x_train[333], cmap='Greys_r')"
      ]
    },
    {
      "cell_type": "code",
      "execution_count": 8,
      "metadata": {
        "colab": {
          "base_uri": "https://localhost:8080/"
        },
        "id": "jmS_mwc-UC9p",
        "outputId": "c93c4844-9911-4e42-824d-bac577852d3b"
      },
      "outputs": [
        {
          "output_type": "stream",
          "name": "stdout",
          "text": [
            "(60000, 28, 28) train samples\n",
            "(10000, 28, 28) test samples\n"
          ]
        }
      ],
      "source": [
        "# this is the shape of the np.array x_train\n",
        "# it is 3 dimensional.\n",
        "print(x_train.shape, 'train samples')\n",
        "print(x_test.shape, 'test samples')"
      ]
    },
    {
      "cell_type": "code",
      "execution_count": 9,
      "metadata": {
        "id": "VssHdnNXUC9q"
      },
      "outputs": [],
      "source": [
        "## For our purposes, these images are just a vector of 784 inputs, so let's convert\n",
        "x_train = x_train.reshape(len(x_train), 28*28)\n",
        "x_test = x_test.reshape(len(x_test), 28*28)\n",
        "\n",
        "## Keras works with floats, so we must cast the numbers to floats\n",
        "x_train = x_train.astype('float32')\n",
        "x_test = x_test.astype('float32')\n",
        "\n",
        "## Normalize the inputs so they are between 0 and 1\n",
        "x_train /= 255\n",
        "x_test /= 255\n"
      ]
    },
    {
      "cell_type": "code",
      "execution_count": 10,
      "metadata": {
        "colab": {
          "base_uri": "https://localhost:8080/"
        },
        "id": "F9W94Yu3UC9q",
        "outputId": "4ea103d5-fa6e-4628-cf30-67fe7b4e3445"
      },
      "outputs": [
        {
          "output_type": "execute_result",
          "data": {
            "text/plain": [
              "array([0., 0., 0., 0., 0., 0., 0., 0., 1., 0.], dtype=float32)"
            ]
          },
          "metadata": {},
          "execution_count": 10
        }
      ],
      "source": [
        "# convert class labels to one-hot vectors\n",
        "num_classes = 10\n",
        "y_train = keras.utils.np_utils.to_categorical(y_train, num_classes)\n",
        "y_test = keras.utils.np_utils.to_categorical(y_test, num_classes)\n",
        "\n",
        "y_train[333]  # now the digit k is represented by a 1 in the kth entry (0-indexed) of the length 10 vector"
      ]
    },
    {
      "cell_type": "code",
      "execution_count": 11,
      "metadata": {
        "id": "vmHMLGRNUC9r"
      },
      "outputs": [],
      "source": [
        "# We will build a model with two fully connected layers (using \"Dense\")\n",
        "# We will use dropout of .5 to help regularize\n",
        "model_1 = Sequential()\n",
        "model_1.add(Dense(64, activation='relu', input_shape=(784,)))\n",
        "model_1.add(Dropout(0.5))\n",
        "model_1.add(Dense(64, activation='relu'))\n",
        "model_1.add(Dropout(0.5))\n",
        "model_1.add(Dense(10, activation='softmax'))"
      ]
    },
    {
      "cell_type": "code",
      "execution_count": 12,
      "metadata": {
        "scrolled": true,
        "colab": {
          "base_uri": "https://localhost:8080/"
        },
        "id": "GQXcvLkdUC9s",
        "outputId": "6f5558a6-e0a0-4aa1-9531-110ef53e6b3a"
      },
      "outputs": [
        {
          "output_type": "stream",
          "name": "stdout",
          "text": [
            "Model: \"sequential\"\n",
            "_________________________________________________________________\n",
            " Layer (type)                Output Shape              Param #   \n",
            "=================================================================\n",
            " dense (Dense)               (None, 64)                50240     \n",
            "                                                                 \n",
            " dropout (Dropout)           (None, 64)                0         \n",
            "                                                                 \n",
            " dense_1 (Dense)             (None, 64)                4160      \n",
            "                                                                 \n",
            " dropout_1 (Dropout)         (None, 64)                0         \n",
            "                                                                 \n",
            " dense_2 (Dense)             (None, 10)                650       \n",
            "                                                                 \n",
            "=================================================================\n",
            "Total params: 55,050\n",
            "Trainable params: 55,050\n",
            "Non-trainable params: 0\n",
            "_________________________________________________________________\n"
          ]
        }
      ],
      "source": [
        "## print the summary of the built model. Note that this model has a LOT of parameters\n",
        "model_1.summary()"
      ]
    },
    {
      "cell_type": "code",
      "execution_count": 13,
      "metadata": {
        "id": "mkB8jMZ3UC9s"
      },
      "outputs": [],
      "source": [
        "# Let's compile the model\n",
        "learning_rate = .001\n",
        "model_1.compile(loss='categorical_crossentropy',\n",
        "              optimizer=RMSprop(learning_rate=learning_rate),\n",
        "              metrics=['accuracy'])\n",
        "# note that `categorical cross entropy` is the natural generalization \n",
        "# of the loss function we had in binary classification case to multiclass case"
      ]
    },
    {
      "cell_type": "code",
      "execution_count": 14,
      "metadata": {
        "colab": {
          "base_uri": "https://localhost:8080/"
        },
        "id": "eEl7QXD3UC9s",
        "outputId": "7d57eda3-0731-40d2-c1a3-7ca4bb21764d"
      },
      "outputs": [
        {
          "output_type": "stream",
          "name": "stdout",
          "text": [
            "Epoch 1/30\n",
            "469/469 [==============================] - 3s 5ms/step - loss: 0.8596 - accuracy: 0.7245 - val_loss: 0.2795 - val_accuracy: 0.9178\n",
            "Epoch 2/30\n",
            "469/469 [==============================] - 2s 4ms/step - loss: 0.4762 - accuracy: 0.8626 - val_loss: 0.2247 - val_accuracy: 0.9355\n",
            "Epoch 3/30\n",
            "469/469 [==============================] - 2s 4ms/step - loss: 0.4021 - accuracy: 0.8867 - val_loss: 0.2017 - val_accuracy: 0.9426\n",
            "Epoch 4/30\n",
            "469/469 [==============================] - 2s 4ms/step - loss: 0.3710 - accuracy: 0.8967 - val_loss: 0.1888 - val_accuracy: 0.9463\n",
            "Epoch 5/30\n",
            "469/469 [==============================] - 2s 4ms/step - loss: 0.3475 - accuracy: 0.9037 - val_loss: 0.1784 - val_accuracy: 0.9498\n",
            "Epoch 6/30\n",
            "469/469 [==============================] - 2s 4ms/step - loss: 0.3378 - accuracy: 0.9094 - val_loss: 0.1690 - val_accuracy: 0.9522\n",
            "Epoch 7/30\n",
            "469/469 [==============================] - 2s 4ms/step - loss: 0.3263 - accuracy: 0.9115 - val_loss: 0.1678 - val_accuracy: 0.9541\n",
            "Epoch 8/30\n",
            "469/469 [==============================] - 2s 4ms/step - loss: 0.3133 - accuracy: 0.9146 - val_loss: 0.1627 - val_accuracy: 0.9567\n",
            "Epoch 9/30\n",
            "469/469 [==============================] - 2s 4ms/step - loss: 0.3070 - accuracy: 0.9163 - val_loss: 0.1629 - val_accuracy: 0.9564\n",
            "Epoch 10/30\n",
            "469/469 [==============================] - 2s 4ms/step - loss: 0.3084 - accuracy: 0.9185 - val_loss: 0.1641 - val_accuracy: 0.9571\n",
            "Epoch 11/30\n",
            "469/469 [==============================] - 2s 4ms/step - loss: 0.3014 - accuracy: 0.9191 - val_loss: 0.1580 - val_accuracy: 0.9572\n",
            "Epoch 12/30\n",
            "469/469 [==============================] - 2s 4ms/step - loss: 0.3037 - accuracy: 0.9194 - val_loss: 0.1611 - val_accuracy: 0.9575\n",
            "Epoch 13/30\n",
            "469/469 [==============================] - 2s 4ms/step - loss: 0.2987 - accuracy: 0.9211 - val_loss: 0.1619 - val_accuracy: 0.9586\n",
            "Epoch 14/30\n",
            "469/469 [==============================] - 2s 4ms/step - loss: 0.2925 - accuracy: 0.9225 - val_loss: 0.1616 - val_accuracy: 0.9594\n",
            "Epoch 15/30\n",
            "469/469 [==============================] - 2s 4ms/step - loss: 0.2926 - accuracy: 0.9222 - val_loss: 0.1571 - val_accuracy: 0.9605\n",
            "Epoch 16/30\n",
            "469/469 [==============================] - 2s 5ms/step - loss: 0.2864 - accuracy: 0.9231 - val_loss: 0.1612 - val_accuracy: 0.9612\n",
            "Epoch 17/30\n",
            "469/469 [==============================] - 3s 6ms/step - loss: 0.2972 - accuracy: 0.9224 - val_loss: 0.1705 - val_accuracy: 0.9599\n",
            "Epoch 18/30\n",
            "469/469 [==============================] - 2s 5ms/step - loss: 0.2897 - accuracy: 0.9224 - val_loss: 0.1570 - val_accuracy: 0.9626\n",
            "Epoch 19/30\n",
            "469/469 [==============================] - 2s 4ms/step - loss: 0.2870 - accuracy: 0.9242 - val_loss: 0.1684 - val_accuracy: 0.9619\n",
            "Epoch 20/30\n",
            "469/469 [==============================] - 2s 4ms/step - loss: 0.2884 - accuracy: 0.9248 - val_loss: 0.1694 - val_accuracy: 0.9622\n",
            "Epoch 21/30\n",
            "469/469 [==============================] - 2s 4ms/step - loss: 0.2895 - accuracy: 0.9237 - val_loss: 0.1578 - val_accuracy: 0.9620\n",
            "Epoch 22/30\n",
            "469/469 [==============================] - 2s 4ms/step - loss: 0.2841 - accuracy: 0.9258 - val_loss: 0.1690 - val_accuracy: 0.9637\n",
            "Epoch 23/30\n",
            "469/469 [==============================] - 2s 4ms/step - loss: 0.2935 - accuracy: 0.9257 - val_loss: 0.1655 - val_accuracy: 0.9622\n",
            "Epoch 24/30\n",
            "469/469 [==============================] - 2s 4ms/step - loss: 0.2856 - accuracy: 0.9257 - val_loss: 0.1702 - val_accuracy: 0.9619\n",
            "Epoch 25/30\n",
            "469/469 [==============================] - 2s 4ms/step - loss: 0.2872 - accuracy: 0.9246 - val_loss: 0.1721 - val_accuracy: 0.9618\n",
            "Epoch 26/30\n",
            "469/469 [==============================] - 2s 4ms/step - loss: 0.2890 - accuracy: 0.9255 - val_loss: 0.1779 - val_accuracy: 0.9632\n",
            "Epoch 27/30\n",
            "469/469 [==============================] - 2s 4ms/step - loss: 0.2834 - accuracy: 0.9268 - val_loss: 0.1714 - val_accuracy: 0.9623\n",
            "Epoch 28/30\n",
            "469/469 [==============================] - 2s 4ms/step - loss: 0.2822 - accuracy: 0.9270 - val_loss: 0.1800 - val_accuracy: 0.9623\n",
            "Epoch 29/30\n",
            "469/469 [==============================] - 2s 4ms/step - loss: 0.2870 - accuracy: 0.9278 - val_loss: 0.1754 - val_accuracy: 0.9616\n",
            "Epoch 30/30\n",
            "469/469 [==============================] - 2s 4ms/step - loss: 0.2848 - accuracy: 0.9264 - val_loss: 0.1766 - val_accuracy: 0.9621\n"
          ]
        }
      ],
      "source": [
        "# Now let's fit (train model_1).\n",
        "\n",
        "batch_size = 128  # mini-batch with 128 examples\n",
        "epochs = 30\n",
        "history = model_1.fit(\n",
        "    x_train, y_train,\n",
        "    batch_size=batch_size,\n",
        "    epochs=epochs,\n",
        "    verbose=1,\n",
        "    validation_data=(x_test, y_test))"
      ]
    },
    {
      "cell_type": "code",
      "execution_count": 15,
      "metadata": {
        "colab": {
          "base_uri": "https://localhost:8080/"
        },
        "id": "EYQZsGALUC9t",
        "outputId": "8b20b8c8-bf69-4fc8-8f40-2a43eaaec4cb"
      },
      "outputs": [
        {
          "output_type": "stream",
          "name": "stdout",
          "text": [
            "Test loss: 0.1766347587108612\n",
            "Test accuracy: 0.9621000289916992\n"
          ]
        }
      ],
      "source": [
        "## We will use Keras evaluate function to evaluate performance on the test set\n",
        "\n",
        "score = model_1.evaluate(x_test, y_test, verbose=0)\n",
        "print('Test loss:', score[0])\n",
        "print('Test accuracy:', score[1])"
      ]
    },
    {
      "cell_type": "code",
      "execution_count": 16,
      "metadata": {
        "colab": {
          "base_uri": "https://localhost:8080/",
          "height": 390
        },
        "id": "0DNjb_EHUC9t",
        "outputId": "377014a3-cd0e-47af-e9dd-e5937a3f0761"
      },
      "outputs": [
        {
          "output_type": "display_data",
          "data": {
            "text/plain": [
              "<Figure size 864x432 with 2 Axes>"
            ],
            "image/png": "[encoded data removed]"
          },
          "metadata": {
            "needs_background": "light"
          }
        }
      ],
      "source": [
        "def plot_loss_accuracy(history):\n",
        "    fig = plt.figure(figsize=(12, 6))\n",
        "    ax = fig.add_subplot(1, 2, 1)\n",
        "    ax.plot(history.history[\"loss\"],'r-x', label=\"Train Loss\")\n",
        "    ax.plot(history.history[\"val_loss\"],'b-x', label=\"Validation Loss\")\n",
        "    ax.legend()\n",
        "    ax.set_title('cross_entropy loss')\n",
        "    ax.grid(True)\n",
        "\n",
        "    ax = fig.add_subplot(1, 2, 2)\n",
        "    ax.plot(history.history[\"accuracy\"],'r-x', label=\"Train Accuracy\")\n",
        "    ax.plot(history.history[\"val_accuracy\"],'b-x', label=\"Validation Accuracy\")\n",
        "    ax.legend()\n",
        "    ax.set_title('accuracy')\n",
        "    ax.grid(True)\n",
        "    \n",
        "plot_loss_accuracy(history)"
      ]
    },
    {
      "cell_type": "markdown",
      "metadata": {
        "id": "Nu4THA4rUC9u"
      },
      "source": [
        "This is reasonably good performance, but we can do even better!  Next you will build an even bigger network and compare the performance."
      ]
    },
    {
      "cell_type": "markdown",
      "metadata": {
        "id": "jwiisnGEUC9u"
      },
      "source": [
        "### Keras Layers for CNNs\n",
        "- Previously we built a neural network using primarily the Dense, Activation and Dropout Layers.\n",
        "\n",
        "- Here we will describe how to use some of the CNN-specific layers provided by Keras\n",
        "\n",
        "#### Conv2D\n",
        "\n",
        "```python\n",
        "keras.layers.convolutional.Conv2D(filters, kernel_size, strides=(1, 1), padding='valid', data_format=None, dilation_rate=(1, 1), activation=None, use_bias=True, kernel_initializer='glorot_uniform', bias_initializer='zeros', kernel_regularizer=None, bias_regularizer=None, activity_regularizer=None, kernel_constraint=None, bias_constraint=None, **kwargs)\n",
        "```\n",
        "\n",
        "A few parameters explained below for your convenience (please do check the manual of Keras to understand the meaning of all the paramters)\n",
        "- `filters`: the number of filters,  in other words, the depth of the output.\n",
        "- `kernel_size`: an (H,W) tuple giving the height and width of the kernel (filter) to be used. It can also be an integer x which is equivalent to a tuple (x,x) \n",
        "- `strides`: and (x,y) tuple giving the stride in each dimension.  Default is `(1,1)`. It can also be an integer x which is equivalent to a tuple (x,x) \n",
        "- `input_shape`: required only for the first layer\n",
        "\n",
        "Note that the size of the output will be determined by the kernel_size and strides.\n",
        "\n",
        "#### MaxPooling2D\n",
        "`keras.layers.pooling.MaxPooling2D(pool_size=(2, 2), strides=None, padding='valid', data_format=None)`\n",
        "\n",
        "- `pool_size`: the (x,y) size of the grid to be pooled.\n",
        "- `strides`: Assumed to be the `pool_size` unless otherwise specified\n",
        "\n",
        "#### Flatten\n",
        "Turns its input into a one-dimensional vector (per instance).  Usually used when transitioning between convolutional layers and fully connected layers.\n"
      ]
    },
    {
      "cell_type": "markdown",
      "metadata": {
        "id": "xKrItRSzUC9v"
      },
      "source": [
        "# Your tasks for this project (three tasks, (1)-(3))\n",
        "\n",
        "\n",
        "### (1) Build your own CNN model (30pts)\n",
        "Use the Keras \"Sequential\" functionality to build a convolutional neural network named `model_2` with the following specifications:\n",
        "<br>\n",
        "<br>\n",
        "Model Architecture:<br>\n",
        "We will build model_2 according to the famous LeNet-5 architecutre below and measure its performance.\n",
        "<br>\n",
        "    Convolution -> Relu -> Max pooling -> Convolution -> Relu -> Max pooling -> FC1 -> Relu -> FC2 -> Relu -> Output(SoftMax)\n",
        "<br>\n",
        "\n",
        "1. Convolution1 kernel size: 5(H) x 5(W) x 6(filters), stride = 1, no padding\n",
        "2. Max pooling1 kernel size: 2(H) x 2(W), stride = 2\n",
        "3. Convolution2 kernel size: 5(H) x 5(W) x 16(filters), stride = 1, no padding\n",
        "4. Max pooling2 kernel size: 2(H) x 2(W), stride = 2\n",
        "5. Fully Connected1 size: 120\n",
        "6. Fully Connected2 size: 84\n",
        "7. Train this model for 20 epochs with RMSProp at a learning rate of .001 and a batch size of 128\n",
        "8. Plot the loss and accuracy graph for training the new model \n",
        "9. Evaluate the model on test data\n",
        "\n",
        "Please train the built model on the training data (x_train, y_train), and print the test loss and test accuracy of the trained model on the test data (x_test, y_test). Please call the given plot_loss_accuracy function on the history returned by model_2.fit to have the curves of loss and accuracy on the training data and the validation data during the training process of model_2. Note that the validation data is the same as the test data.\n",
        "\n",
        "Hints:\n",
        "<ul>\n",
        "  <li> You will need to have a Flatten layer to make the dimension of the Output be 10 (the number of classes). Check how to connect the output of convolution layer with the first fully connected layer.\n",
        "<li> You will not be graded on the accuracy of your model, but it should have a decent accuracy of at least 70%. Performance below 70% means there is something wrong with the implementation.\n",
        "<li> Do not use any padding or dropout in model_2. Such choices can be used for Project Bonus and Fashion MNIST.\n",
        "    </li></ul>"
      ]
    },
    {
      "cell_type": "markdown",
      "metadata": {
        "id": "r_oJBraeUC9v"
      },
      "source": [
        "To use the LeNet model, we need to do some preprocessing on the data first."
      ]
    },
    {
      "cell_type": "code",
      "execution_count": 17,
      "metadata": {
        "id": "qWwGGLEXUC9w",
        "colab": {
          "base_uri": "https://localhost:8080/"
        },
        "outputId": "f0bc360d-1c01-4b7a-f501-fbc41eadaf56"
      },
      "outputs": [
        {
          "output_type": "execute_result",
          "data": {
            "text/plain": [
              "((60000, 28, 28), (10000, 28, 28))"
            ]
          },
          "metadata": {},
          "execution_count": 17
        }
      ],
      "source": [
        "# Data is currently flattened, we need to reshape it back to 28 * 28. To do that we reshape the data.\n",
        "\n",
        "x_train = np.reshape(x_train, [-1, 28, 28])\n",
        "x_test = np.reshape(x_test, [-1, 28, 28])\n",
        "x_train.shape, x_test.shape"
      ]
    },
    {
      "cell_type": "code",
      "execution_count": 18,
      "metadata": {
        "id": "bhiOUYSpUC9w",
        "colab": {
          "base_uri": "https://localhost:8080/"
        },
        "outputId": "06d38684-6809-4ac7-e4b1-0449aa906814"
      },
      "outputs": [
        {
          "output_type": "execute_result",
          "data": {
            "text/plain": [
              "((60000, 32, 32), (10000, 32, 32))"
            ]
          },
          "metadata": {},
          "execution_count": 18
        }
      ],
      "source": [
        "# model_2 requires input of 32 X 32. So we will pad the train and test images with zeros to increase the size to 32 X 32.\n",
        "\n",
        "x_train=np.pad(x_train, ((0,0), (2,2), (2, 2)), 'constant')\n",
        "x_test=np.pad(x_test, ((0,0), (2,2), (2, 2)), 'constant')\n",
        "x_train.shape, x_test.shape"
      ]
    },
    {
      "cell_type": "code",
      "execution_count": 19,
      "metadata": {
        "id": "SXMQmFSsUC9w",
        "colab": {
          "base_uri": "https://localhost:8080/"
        },
        "outputId": "32069483-7821-4a14-a78b-975489baecbe"
      },
      "outputs": [
        {
          "output_type": "execute_result",
          "data": {
            "text/plain": [
              "((60000, 32, 32, 1), (10000, 32, 32, 1))"
            ]
          },
          "metadata": {},
          "execution_count": 19
        }
      ],
      "source": [
        "# Convolutional model requires input to be of 3 dimensions. We will add a channel dimension to it.\n",
        "\n",
        "x_train = np.reshape(x_train, [-1, 32, 32, 1])\n",
        "x_test = np.reshape(x_test, [-1, 32, 32, 1])\n",
        "x_train.shape, x_test.shape"
      ]
    },
    {
      "cell_type": "markdown",
      "metadata": {
        "id": "LyKACE8PUC9w"
      },
      "source": [
        "### Write your code below for task (1)"
      ]
    },
    {
      "cell_type": "code",
      "execution_count": 26,
      "metadata": {
        "id": "f-pV1ERLUC9w",
        "colab": {
          "base_uri": "https://localhost:8080/"
        },
        "outputId": "a13be288-d251-4159-cbac-f4ec295acbfe"
      },
      "outputs": [
        {
          "output_type": "stream",
          "name": "stdout",
          "text": [
            "Model: \"sequential_3\"\n",
            "_________________________________________________________________\n",
            " Layer (type)                Output Shape              Param #   \n",
            "=================================================================\n",
            " conv2d_4 (Conv2D)           (None, 28, 28, 6)         156       \n",
            "                                                                 \n",
            " max_pooling2d_4 (MaxPooling  (None, 14, 14, 6)        0         \n",
            " 2D)                                                             \n",
            "                                                                 \n",
            " conv2d_5 (Conv2D)           (None, 10, 10, 16)        2416      \n",
            "                                                                 \n",
            " max_pooling2d_5 (MaxPooling  (None, 5, 5, 16)         0         \n",
            " 2D)                                                             \n",
            "                                                                 \n",
            " flatten_2 (Flatten)         (None, 400)               0         \n",
            "                                                                 \n",
            " dense_7 (Dense)             (None, 120)               48120     \n",
            "                                                                 \n",
            " dense_8 (Dense)             (None, 84)                10164     \n",
            "                                                                 \n",
            " dense_9 (Dense)             (None, 10)                850       \n",
            "                                                                 \n",
            "=================================================================\n",
            "Total params: 61,706\n",
            "Trainable params: 61,706\n",
            "Non-trainable params: 0\n",
            "_________________________________________________________________\n"
          ]
        }
      ],
      "source": [
        "model_2 = Sequential()\n",
        "model_2.add(Conv2D(filters=6, kernel_size=(5, 5), activation='relu', input_shape=(32,32,1)))\n",
        "model_2.add(MaxPooling2D(pool_size=(2, 2), strides=2))\n",
        "model_2.add(Conv2D(filters=16, kernel_size=(5, 5), activation='relu'))\n",
        "model_2.add(MaxPooling2D(pool_size=(2, 2), strides=2))\n",
        "model_2.add(Flatten())\n",
        "model_2.add(Dense(units=120, activation='relu'))\n",
        "model_2.add(Dense(units=84, activation = 'relu'))\n",
        "model_2.add(Dense(units=10, activation = 'softmax'))\n",
        "model_2.summary()\n",
        "\n"
      ]
    },
    {
      "cell_type": "code",
      "source": [
        "learning_rate = .001\n",
        "model_2.compile(loss='categorical_crossentropy',\n",
        "              optimizer=RMSprop(learning_rate=learning_rate),\n",
        "              metrics=['accuracy'])\n"
      ],
      "metadata": {
        "id": "LlbS07M2dQ11"
      },
      "execution_count": 27,
      "outputs": []
    },
    {
      "cell_type": "code",
      "source": [
        "batch_size = 128  # mini-batch with 128 examples\n",
        "epochs = 20\n",
        "history = model_2.fit(\n",
        "    x_train, y_train,\n",
        "    batch_size=batch_size,\n",
        "    epochs=epochs,\n",
        "    verbose=1,\n",
        "    validation_data=(x_test, y_test))"
      ],
      "metadata": {
        "colab": {
          "base_uri": "https://localhost:8080/"
        },
        "id": "cg_0NSn4eIWW",
        "outputId": "7933d53f-5496-4d08-cd59-02fcd110efbb"
      },
      "execution_count": 28,
      "outputs": [
        {
          "output_type": "stream",
          "name": "stdout",
          "text": [
            "Epoch 1/20\n",
            "469/469 [==============================] - 36s 74ms/step - loss: 0.2949 - accuracy: 0.9076 - val_loss: 0.0736 - val_accuracy: 0.9763\n",
            "Epoch 2/20\n",
            "469/469 [==============================] - 36s 77ms/step - loss: 0.0759 - accuracy: 0.9767 - val_loss: 0.0583 - val_accuracy: 0.9814\n",
            "Epoch 3/20\n",
            "469/469 [==============================] - 37s 78ms/step - loss: 0.0524 - accuracy: 0.9839 - val_loss: 0.0433 - val_accuracy: 0.9862\n",
            "Epoch 4/20\n",
            "469/469 [==============================] - 33s 71ms/step - loss: 0.0413 - accuracy: 0.9872 - val_loss: 0.0433 - val_accuracy: 0.9856\n",
            "Epoch 5/20\n",
            "469/469 [==============================] - 37s 78ms/step - loss: 0.0339 - accuracy: 0.9894 - val_loss: 0.0453 - val_accuracy: 0.9854\n",
            "Epoch 6/20\n",
            "469/469 [==============================] - 34s 72ms/step - loss: 0.0275 - accuracy: 0.9912 - val_loss: 0.0363 - val_accuracy: 0.9887\n",
            "Epoch 7/20\n",
            "469/469 [==============================] - 36s 76ms/step - loss: 0.0227 - accuracy: 0.9928 - val_loss: 0.0400 - val_accuracy: 0.9891\n",
            "Epoch 8/20\n",
            "469/469 [==============================] - 36s 77ms/step - loss: 0.0212 - accuracy: 0.9931 - val_loss: 0.0331 - val_accuracy: 0.9902\n",
            "Epoch 9/20\n",
            "469/469 [==============================] - 35s 75ms/step - loss: 0.0167 - accuracy: 0.9947 - val_loss: 0.0342 - val_accuracy: 0.9901\n",
            "Epoch 10/20\n",
            "469/469 [==============================] - 36s 76ms/step - loss: 0.0147 - accuracy: 0.9953 - val_loss: 0.0300 - val_accuracy: 0.9916\n",
            "Epoch 11/20\n",
            "469/469 [==============================] - 40s 85ms/step - loss: 0.0131 - accuracy: 0.9960 - val_loss: 0.0354 - val_accuracy: 0.9901\n",
            "Epoch 12/20\n",
            "469/469 [==============================] - 38s 80ms/step - loss: 0.0114 - accuracy: 0.9962 - val_loss: 0.0321 - val_accuracy: 0.9912\n",
            "Epoch 13/20\n",
            "469/469 [==============================] - 34s 72ms/step - loss: 0.0099 - accuracy: 0.9970 - val_loss: 0.0388 - val_accuracy: 0.9897\n",
            "Epoch 14/20\n",
            "469/469 [==============================] - 34s 73ms/step - loss: 0.0093 - accuracy: 0.9971 - val_loss: 0.0468 - val_accuracy: 0.9901\n",
            "Epoch 15/20\n",
            "469/469 [==============================] - 35s 74ms/step - loss: 0.0081 - accuracy: 0.9974 - val_loss: 0.0421 - val_accuracy: 0.9895\n",
            "Epoch 16/20\n",
            "469/469 [==============================] - 34s 72ms/step - loss: 0.0072 - accuracy: 0.9974 - val_loss: 0.0475 - val_accuracy: 0.9893\n",
            "Epoch 17/20\n",
            "469/469 [==============================] - 33s 71ms/step - loss: 0.0068 - accuracy: 0.9976 - val_loss: 0.0519 - val_accuracy: 0.9882\n",
            "Epoch 18/20\n",
            "469/469 [==============================] - 33s 71ms/step - loss: 0.0061 - accuracy: 0.9980 - val_loss: 0.0464 - val_accuracy: 0.9901\n",
            "Epoch 19/20\n",
            "469/469 [==============================] - 34s 72ms/step - loss: 0.0054 - accuracy: 0.9982 - val_loss: 0.0617 - val_accuracy: 0.9875\n",
            "Epoch 20/20\n",
            "469/469 [==============================] - 34s 73ms/step - loss: 0.0046 - accuracy: 0.9983 - val_loss: 0.0432 - val_accuracy: 0.9910\n"
          ]
        }
      ]
    },
    {
      "cell_type": "code",
      "source": [
        "score = model_2.evaluate(x_test, y_test, verbose=0)\n",
        "print('Test loss:', score[0])\n",
        "print('Test accuracy:', score[1])\n"
      ],
      "metadata": {
        "colab": {
          "base_uri": "https://localhost:8080/"
        },
        "id": "ZM7VvfLPjMZi",
        "outputId": "09aa03cf-d6dd-4809-a9b7-6719784a43e2"
      },
      "execution_count": 30,
      "outputs": [
        {
          "output_type": "stream",
          "name": "stdout",
          "text": [
            "Test loss: 0.043206196278333664\n",
            "Test accuracy: 0.9909999966621399\n"
          ]
        }
      ]
    },
    {
      "cell_type": "code",
      "source": [
        "def plot_loss_accuracy(history):\n",
        "    fig = plt.figure(figsize=(12, 6))\n",
        "    ax = fig.add_subplot(1, 2, 1)\n",
        "    ax.plot(history.history[\"loss\"],'r-x', label=\"Train Loss\")\n",
        "    ax.plot(history.history[\"val_loss\"],'b-x', label=\"Validation Loss\")\n",
        "    ax.legend()\n",
        "    ax.set_title('cross_entropy loss')\n",
        "    ax.grid(True)\n",
        "\n",
        "    ax = fig.add_subplot(1, 2, 2)\n",
        "    ax.plot(history.history[\"accuracy\"],'r-x', label=\"Train Accuracy\")\n",
        "    ax.plot(history.history[\"val_accuracy\"],'b-x', label=\"Validation Accuracy\")\n",
        "    ax.legend()\n",
        "    ax.set_title('accuracy')\n",
        "    ax.grid(True)\n",
        "    \n",
        "plot_loss_accuracy(history)"
      ],
      "metadata": {
        "colab": {
          "base_uri": "https://localhost:8080/",
          "height": 390
        },
        "id": "DHbpmim-kTTJ",
        "outputId": "d686d1ef-cab5-4e38-a914-77a4848de472"
      },
      "execution_count": 31,
      "outputs": [
        {
          "output_type": "display_data",
          "data": {
            "text/plain": [
              "<Figure size 864x432 with 2 Axes>"
            ],
            "image/png": "[encoded data removed]"
          },
          "metadata": {
            "needs_background": "light"
          }
        }
      ]
    },
    {
      "cell_type": "markdown",
      "metadata": {
        "collapsed": true,
        "id": "7WjVsq5wUC9x"
      },
      "source": [
        "### (2) Answer the following question (20pts)\n",
        "\n",
        "Compare the curves of the loss and accuracy on the training data and the validation (test) data for model_1 and model_2. Please write down your observations. For example, (1) which model has higher validation (test) loss?  (2) which model has higher validation (test) accuracy? (3) Do (1)-(2) for the training loss and the training accuracy; (4) Which measure do you think is more meaningful, the loss or the accuracy?"
      ]
    },
    {
      "cell_type": "markdown",
      "source": [
        "(1) model_1 has higher validation (test) loss\n",
        "\n",
        "(2) model_2 has higher validation (test) accuracy\n",
        "\n",
        "(3) model_1 has higher validation training loss and model_2 has higher validation training accuracy\n",
        "\n",
        "(4) Loss is more meaningful since it is used to find the best weights for the model. It gives a more nuanced view into how well the model is performing.\n"
      ],
      "metadata": {
        "id": "qHrqdJg6lkSa"
      }
    },
    {
      "cell_type": "code",
      "execution_count": null,
      "metadata": {
        "id": "xIyuKJM2UC9x"
      },
      "outputs": [],
      "source": [
        ""
      ]
    },
    {
      "cell_type": "markdown",
      "metadata": {
        "id": "sAQ_lBjMUC9x"
      },
      "source": [
        "### We will perform similar tasks for Fashion MNIST dataset. \n",
        "\n",
        "Fashion MNIST has 10 categories of clothing items:<br>\n",
        "\n",
        "| Label | Description | \n",
        "| --- | --- | \n",
        "| 0 | T-shirt/top |\n",
        "| 1 | Trouser |\n",
        "| 2 | Pullover |\n",
        "| 3 | Dress |\n",
        "| 4 | Coat |\n",
        "| 5 | Sandal |\n",
        "| 6 | Shirt |\n",
        "| 7 | Sneaker |\n",
        "| 8 | Bag |\n",
        "| 9 | Ankle boot |"
      ]
    },
    {
      "cell_type": "code",
      "execution_count": 32,
      "metadata": {
        "id": "EvBwbXUrUC9x",
        "colab": {
          "base_uri": "https://localhost:8080/"
        },
        "outputId": "f498933e-ce9e-46a0-9976-7dee8d5c166c"
      },
      "outputs": [
        {
          "output_type": "stream",
          "name": "stdout",
          "text": [
            "Downloading data from https://storage.googleapis.com/tensorflow/tf-keras-datasets/train-labels-idx1-ubyte.gz\n",
            "32768/29515 [=================================] - 0s 0us/step\n",
            "40960/29515 [=========================================] - 0s 0us/step\n",
            "Downloading data from https://storage.googleapis.com/tensorflow/tf-keras-datasets/train-images-idx3-ubyte.gz\n",
            "26427392/26421880 [==============================] - 0s 0us/step\n",
            "26435584/26421880 [==============================] - 0s 0us/step\n",
            "Downloading data from https://storage.googleapis.com/tensorflow/tf-keras-datasets/t10k-labels-idx1-ubyte.gz\n",
            "16384/5148 [===============================================================================================] - 0s 0us/step\n",
            "Downloading data from https://storage.googleapis.com/tensorflow/tf-keras-datasets/t10k-images-idx3-ubyte.gz\n",
            "4423680/4422102 [==============================] - 0s 0us/step\n",
            "4431872/4422102 [==============================] - 0s 0us/step\n"
          ]
        }
      ],
      "source": [
        "# Load the data, shuffled and split between train and test sets\n",
        "(x_train, y_train), (x_test, y_test) = fashion_mnist.load_data()"
      ]
    },
    {
      "cell_type": "code",
      "execution_count": 33,
      "metadata": {
        "id": "KtwHytpiUC9x",
        "colab": {
          "base_uri": "https://localhost:8080/"
        },
        "outputId": "80218f1c-a1a5-4ee0-923e-9ce5b904c0e9"
      },
      "outputs": [
        {
          "output_type": "execute_result",
          "data": {
            "text/plain": [
              "(28, 28)"
            ]
          },
          "metadata": {},
          "execution_count": 33
        }
      ],
      "source": [
        "x_train[0].shape"
      ]
    },
    {
      "cell_type": "code",
      "execution_count": 34,
      "metadata": {
        "id": "kGg70hLxUC9y",
        "colab": {
          "base_uri": "https://localhost:8080/"
        },
        "outputId": "60ce1fd0-fa44-4899-fa6e-3e760d347533"
      },
      "outputs": [
        {
          "output_type": "execute_result",
          "data": {
            "text/plain": [
              "array([[  0,   0,   0,   0,   0,   0,   0,   0,   0,   0,   0,   3,   0,\n",
              "         42,  92,  71, 107,  33,   0,   3,   0,   1,   0,   0,   0,   0,\n",
              "          0,   0],\n",
              "       [  0,   0,   0,   0,   0,   0,   0,   0,   0,   0,   2,   0,  23,\n",
              "        145,   0,   0,   0, 113,  20,   0,   3,   0,   0,   0,   0,   0,\n",
              "          0,   0],\n",
              "       [  0,   0,   0,   0,   0,   0,   0,   0,   0,   0,   0,   0,  89,\n",
              "          8,   0,  10,   0,  36, 104,   0,   2,   0,   0,   0,   0,   0,\n",
              "          0,   0],\n",
              "       [  0,   0,   0,   0,   0,   0,   0,   0,   0,   3,   0,  37,  97,\n",
              "          0,   5,   1,   0,   0, 141,  23,   0,   2,   0,   0,   0,   0,\n",
              "          0,   0],\n",
              "       [  0,   0,   0,   0,   0,   0,   0,   0,   0,   5,   0,  70,  75,\n",
              "          0,   6,   1,   0,   0, 141,  56,   0,   5,   0,   0,   0,   0,\n",
              "          0,   0],\n",
              "       [  0,   0,   0,   0,   0,   0,   0,   0,   0,   6,   0,  85,  57,\n",
              "          0,   5,   1,   1,   0, 126,  62,   0,   6,   0,   0,   0,   0,\n",
              "          0,   0],\n",
              "       [  0,   0,   0,   0,   0,   0,   0,   0,   0,   6,   0,  85,  44,\n",
              "          0,   3,   0,   4,   0, 109,  66,   0,   6,   0,   0,   0,   0,\n",
              "          0,   0],\n",
              "       [  0,   0,   0,   0,   0,   0,   0,   0,   0,   6,   0,  75,  41,\n",
              "          0,   3,   0,   5,   0,  89,  68,   0,   6,   0,   0,   0,   0,\n",
              "          0,   0],\n",
              "       [  0,   0,   0,   0,   0,   0,   0,   0,   0,   5,   0,  71,  44,\n",
              "          0,   3,   0,   6,   0,  74,  69,   0,   6,   0,   0,   0,   0,\n",
              "          0,   0],\n",
              "       [  0,   0,   0,   0,   0,   0,   0,   0,   0,   4,   0,  80,  68,\n",
              "          0,   4,   0,   5,   0,  89,  85,   0,   6,   0,   0,   0,   0,\n",
              "          0,   0],\n",
              "       [  0,   0,   0,   0,   0,   0,   0,   2,   3,   8,   0,  74,  89,\n",
              "          0,  10,   3,  10,   0,  98,  84,   0,  10,   4,   3,   0,   0,\n",
              "          0,   0],\n",
              "       [  0,   0,   0,   0,   0,   0,   0,   0,   0,   0,   0,  30,  80,\n",
              "          0,   0,   0,   0,   0,  69,  37,   0,   0,   0,   0,   0,   0,\n",
              "          0,   0],\n",
              "       [  0,   0,   0,   0,   0,   2,   0,  80, 117, 118,  92, 125, 144,\n",
              "        109, 141, 126, 132, 115, 151, 141, 130, 142, 150,  57,   0,   0,\n",
              "          0,   0],\n",
              "       [  0,   0,   0,   0,   0,   0,   0,  81, 162, 158, 153, 165, 192,\n",
              "        182, 196, 187, 172, 183, 203, 206, 195, 188, 200, 140,   0,   0,\n",
              "          0,   0],\n",
              "       [  0,   0,   0,   0,   0,   0,   0, 114, 158, 169, 164, 164, 196,\n",
              "        183, 177, 168, 163, 174, 195, 198, 195, 174, 170, 142,   0,   0,\n",
              "          0,   0],\n",
              "       [  0,   0,   0,   0,   0,   0,   0, 186, 166, 161, 180, 183, 214,\n",
              "        181, 158, 163, 181, 186, 197, 186, 184, 193, 197,  86,   0,   0,\n",
              "          0,   0],\n",
              "       [  0,   0,   0,   0,   0,   0,   0, 162, 195, 185, 182, 186, 186,\n",
              "        186, 193, 194, 194, 196, 195, 195, 192, 184, 215, 161,   0,   0,\n",
              "          0,   0],\n",
              "       [  0,   0,   0,   0,   0,   0,   0, 165, 233, 219, 230, 235, 230,\n",
              "        228, 229, 229, 221, 218, 217, 215, 212, 204, 221, 160,   0,   0,\n",
              "          0,   0],\n",
              "       [  0,   0,   0,   0,   0,   0, 134, 202, 221, 218, 220, 224, 222,\n",
              "        220, 219, 221, 219, 213, 213, 208, 208, 199, 220, 142,   0,   0,\n",
              "          0,   0],\n",
              "       [  0,   0,   0,   0,   0,  92, 213, 205, 233, 217, 226, 225, 226,\n",
              "        222, 220, 219, 219, 217, 214, 212, 209, 195, 231, 126,   0,   0,\n",
              "          0,   0],\n",
              "       [  0,   0,   0,   0,   0, 120,   0, 187, 247, 221, 224, 225, 222,\n",
              "        218, 219, 219, 219, 216, 214, 212, 210, 197, 246, 130,   0,   0,\n",
              "          0,   0],\n",
              "       [  0,   0,   0,   0,   0,   0,   0, 206, 243, 231, 228, 230, 228,\n",
              "        225, 226, 225, 222, 217, 215, 215, 211, 212, 255, 126,   0,   0,\n",
              "          0,   0],\n",
              "       [  0,   0,   0,   0,   0,  68,   0, 149, 244, 227, 229, 235, 229,\n",
              "        228, 227, 216, 212, 211, 211, 211, 209, 214, 233, 120,   0,   0,\n",
              "          0,   0],\n",
              "       [  0,   0,   0,   0,   0, 117, 124, 151, 242, 232, 238, 237, 232,\n",
              "        230, 226, 216, 213, 215, 211, 208, 206, 214, 232, 114,   0,   0,\n",
              "          0,   0],\n",
              "       [  0,   0,   0,   0,   0,   0, 138, 225, 213, 218, 231, 234, 234,\n",
              "        237, 227, 199, 204, 213, 208, 204, 203, 214, 231, 112,   0,   0,\n",
              "          0,   0],\n",
              "       [  0,   0,   0,   0,   0,   0,  19, 222, 218, 214, 206, 208, 220,\n",
              "        228, 224, 222, 224, 220, 220, 220, 221, 226, 237, 132,   0,   0,\n",
              "          0,   0],\n",
              "       [  0,   0,   0,   0,   0,   0,  56, 211, 230, 229, 227, 197, 173,\n",
              "        193, 240,  50,  50,  58,  55,  56,  59,  57,  70,  11,   0,   0,\n",
              "          0,   0],\n",
              "       [  0,   0,   0,   0,   0,   0,   0,   0,  94, 157, 193, 222, 219,\n",
              "        205, 140,   0,   0,   0,   0,   0,   0,   0,   0,   0,   0,   0,\n",
              "          0,   0]], dtype=uint8)"
            ]
          },
          "metadata": {},
          "execution_count": 34
        }
      ],
      "source": [
        "#Let's just look at a particular example to see what is inside\n",
        "\n",
        "x_train[333]  ## Just a 28 x 28 numpy array of ints from 0 to 255"
      ]
    },
    {
      "cell_type": "code",
      "execution_count": 35,
      "metadata": {
        "id": "NUakF_ASUC9y",
        "colab": {
          "base_uri": "https://localhost:8080/"
        },
        "outputId": "5c28318c-cd28-49b9-ffa4-0e5f3bb13ceb"
      },
      "outputs": [
        {
          "output_type": "execute_result",
          "data": {
            "text/plain": [
              "8"
            ]
          },
          "metadata": {},
          "execution_count": 35
        }
      ],
      "source": [
        "# What is the corresponding label in the training set?\n",
        "y_train[333]"
      ]
    },
    {
      "cell_type": "code",
      "execution_count": 36,
      "metadata": {
        "id": "lDDjZaySUC9y",
        "colab": {
          "base_uri": "https://localhost:8080/",
          "height": 283
        },
        "outputId": "f5256ab9-dca6-4c6c-db04-546506ddff96"
      },
      "outputs": [
        {
          "output_type": "execute_result",
          "data": {
            "text/plain": [
              "<matplotlib.image.AxesImage at 0x7f6beae0aa90>"
            ]
          },
          "metadata": {},
          "execution_count": 36
        },
        {
          "output_type": "display_data",
          "data": {
            "text/plain": [
              "<Figure size 432x288 with 1 Axes>"
            ],
            "image/png": "[encoded data removed]"
          },
          "metadata": {
            "needs_background": "light"
          }
        }
      ],
      "source": [
        "# Let's see what this image actually looks like\n",
        "\n",
        "plt.imshow(x_train[333], cmap='Greys_r')"
      ]
    },
    {
      "cell_type": "code",
      "execution_count": 37,
      "metadata": {
        "id": "a6ByrrzVUC9y",
        "colab": {
          "base_uri": "https://localhost:8080/"
        },
        "outputId": "846b9a75-5714-4921-8ac8-ef66c36730a0"
      },
      "outputs": [
        {
          "output_type": "stream",
          "name": "stdout",
          "text": [
            "(60000, 28, 28) train samples\n",
            "(10000, 28, 28) test samples\n"
          ]
        }
      ],
      "source": [
        "# this is the shape of the np.array x_train\n",
        "# it is 3 dimensional.\n",
        "print(x_train.shape, 'train samples')\n",
        "print(x_test.shape, 'test samples')"
      ]
    },
    {
      "cell_type": "code",
      "execution_count": 38,
      "metadata": {
        "id": "tuwVmiujUC9z"
      },
      "outputs": [],
      "source": [
        "## For our purposes, these images are just a vector of 784 inputs, so let's convert\n",
        "x_train = x_train.reshape(len(x_train), 28*28)\n",
        "x_test = x_test.reshape(len(x_test), 28*28)\n",
        "\n",
        "## Keras works with floats, so we must cast the numbers to floats\n",
        "x_train = x_train.astype('float32')\n",
        "x_test = x_test.astype('float32')\n",
        "\n",
        "## Normalize the inputs so they are between 0 and 1\n",
        "x_train /= 255\n",
        "x_test /= 255"
      ]
    },
    {
      "cell_type": "code",
      "execution_count": 40,
      "metadata": {
        "id": "Uda5OWDYUC9z",
        "colab": {
          "base_uri": "https://localhost:8080/"
        },
        "outputId": "9f0be167-cb5e-427d-a504-1d15be64cc5b"
      },
      "outputs": [
        {
          "output_type": "execute_result",
          "data": {
            "text/plain": [
              "array([0., 0., 0., 0., 0., 0., 0., 0., 1., 0.], dtype=float32)"
            ]
          },
          "metadata": {},
          "execution_count": 40
        }
      ],
      "source": [
        "# convert class vectors to binary class matrices\n",
        "num_classes = 10\n",
        "y_train = keras.utils.np_utils.to_categorical(y_train, num_classes)\n",
        "y_test = keras.utils.np_utils.to_categorical(y_test, num_classes)\n",
        "\n",
        "y_train[333]  "
      ]
    },
    {
      "cell_type": "markdown",
      "metadata": {
        "id": "BXY3kbDuUC9z"
      },
      "source": [
        "Reperforming the earlier preprocessing methods"
      ]
    },
    {
      "cell_type": "code",
      "execution_count": 41,
      "metadata": {
        "id": "_kX4EDitUC9z",
        "colab": {
          "base_uri": "https://localhost:8080/"
        },
        "outputId": "f5cbe369-d889-4f06-f5b6-2dc86c32ce55"
      },
      "outputs": [
        {
          "output_type": "execute_result",
          "data": {
            "text/plain": [
              "((60000, 28, 28), (10000, 28, 28))"
            ]
          },
          "metadata": {},
          "execution_count": 41
        }
      ],
      "source": [
        "# Data is currently flattened, we need to reshape it back to 28 * 28. To do that we reshape the data.\n",
        "\n",
        "x_train = np.reshape(x_train, [-1, 28, 28])\n",
        "x_test = np.reshape(x_test, [-1, 28, 28])\n",
        "x_train.shape, x_test.shape"
      ]
    },
    {
      "cell_type": "code",
      "execution_count": 42,
      "metadata": {
        "id": "gOwbIyOsUC9z",
        "colab": {
          "base_uri": "https://localhost:8080/"
        },
        "outputId": "fce1e3cd-9445-4dc4-a27e-34f8b128c80f"
      },
      "outputs": [
        {
          "output_type": "execute_result",
          "data": {
            "text/plain": [
              "((60000, 32, 32), (10000, 32, 32))"
            ]
          },
          "metadata": {},
          "execution_count": 42
        }
      ],
      "source": [
        "# LeNet requires input of 32 X 32. So we will pad the train and test images with zeros to increase the size to 32 X 32.\n",
        "\n",
        "x_train=np.pad(x_train, ((0,0), (2,2), (2, 2)), 'constant')\n",
        "x_test=np.pad(x_test, ((0,0), (2,2), (2, 2)), 'constant')\n",
        "x_train.shape, x_test.shape"
      ]
    },
    {
      "cell_type": "code",
      "execution_count": 43,
      "metadata": {
        "id": "lddKD_uaUC90",
        "colab": {
          "base_uri": "https://localhost:8080/"
        },
        "outputId": "2e345cf1-edf6-4c94-8737-e564344f062d"
      },
      "outputs": [
        {
          "output_type": "execute_result",
          "data": {
            "text/plain": [
              "((60000, 32, 32, 1), (10000, 32, 32, 1))"
            ]
          },
          "metadata": {},
          "execution_count": 43
        }
      ],
      "source": [
        "# Convolutional model requires input to be of 3 dimensions. We will add a channel dimension to it.\n",
        "\n",
        "x_train = np.reshape(x_train, [-1, 32, 32, 1])\n",
        "x_test = np.reshape(x_test, [-1, 32, 32, 1])\n",
        "x_train.shape, x_test.shape"
      ]
    },
    {
      "cell_type": "markdown",
      "metadata": {
        "id": "XH0NXJehUC90"
      },
      "source": [
        "### (3) Training on Fashion MNIST (50pts)\n",
        "\n",
        "Build a convolutional neural network of your choice. You can freely choose a differnet network structure, learning rate or number of epochs, which (you believe) will lead to a good model for this data set. Report the accuracy of your model on the test data (x_test,y_test)."
      ]
    },
    {
      "cell_type": "markdown",
      "metadata": {
        "id": "zRYN-U4SUC90"
      },
      "source": [
        "### Write your code below for task (3)"
      ]
    },
    {
      "cell_type": "code",
      "execution_count": 45,
      "metadata": {
        "id": "G1Sh0VA4UC90",
        "colab": {
          "base_uri": "https://localhost:8080/"
        },
        "outputId": "98182ba7-bc13-4824-c694-74b449e440d4"
      },
      "outputs": [
        {
          "output_type": "stream",
          "name": "stdout",
          "text": [
            "Model: \"sequential_5\"\n",
            "_________________________________________________________________\n",
            " Layer (type)                Output Shape              Param #   \n",
            "=================================================================\n",
            " conv2d_7 (Conv2D)           (None, 16, 16, 6)         156       \n",
            "                                                                 \n",
            " max_pooling2d_7 (MaxPooling  (None, 8, 8, 6)          0         \n",
            " 2D)                                                             \n",
            "                                                                 \n",
            " conv2d_8 (Conv2D)           (None, 4, 4, 16)          2416      \n",
            "                                                                 \n",
            " max_pooling2d_8 (MaxPooling  (None, 2, 2, 16)         0         \n",
            " 2D)                                                             \n",
            "                                                                 \n",
            " flatten_3 (Flatten)         (None, 64)                0         \n",
            "                                                                 \n",
            " dense_10 (Dense)            (None, 120)               7800      \n",
            "                                                                 \n",
            " dense_11 (Dense)            (None, 84)                10164     \n",
            "                                                                 \n",
            " dense_12 (Dense)            (None, 10)                850       \n",
            "                                                                 \n",
            "=================================================================\n",
            "Total params: 21,386\n",
            "Trainable params: 21,386\n",
            "Non-trainable params: 0\n",
            "_________________________________________________________________\n"
          ]
        }
      ],
      "source": [
        "model_3 = Sequential()\n",
        "model_3.add(Conv2D(filters=6, kernel_size=(5, 5), strides=(2, 2), padding='same', activation='relu', input_shape=(32,32,1)))\n",
        "model_3.add(MaxPooling2D(pool_size=(2, 2), strides=2))\n",
        "model_3.add(Conv2D(filters=16, kernel_size=(5, 5), strides=(2, 2), padding='same', activation='relu'))\n",
        "model_3.add(MaxPooling2D(pool_size=(2, 2), strides=2))\n",
        "model_3.add(Flatten())\n",
        "model_3.add(Dense(units=120, activation='relu'))\n",
        "model_3.add(Dense(units=84, activation = 'relu'))\n",
        "model_3.add(Dense(units=10, activation = 'softmax'))\n",
        "model_3.summary()"
      ]
    },
    {
      "cell_type": "code",
      "source": [
        "learning_rate = .005\n",
        "model_3.compile(loss='categorical_crossentropy',\n",
        "              optimizer=RMSprop(learning_rate=learning_rate),\n",
        "              metrics=['accuracy'])"
      ],
      "metadata": {
        "id": "AKqB1Ci59-Dy"
      },
      "execution_count": 46,
      "outputs": []
    },
    {
      "cell_type": "code",
      "source": [
        "batch_size = 64  # mini-batch with 128 examples\n",
        "epochs = 25\n",
        "history = model_3.fit(\n",
        "    x_train, y_train,\n",
        "    batch_size=batch_size,\n",
        "    epochs=epochs,\n",
        "    verbose=1,\n",
        "    validation_data=(x_test, y_test))"
      ],
      "metadata": {
        "colab": {
          "base_uri": "https://localhost:8080/"
        },
        "id": "cyiX4pO6-OeX",
        "outputId": "4bba8c72-9186-4104-9779-657e1b9ed22f"
      },
      "execution_count": 47,
      "outputs": [
        {
          "output_type": "stream",
          "name": "stdout",
          "text": [
            "Epoch 1/25\n",
            "938/938 [==============================] - 16s 16ms/step - loss: 0.5822 - accuracy: 0.7833 - val_loss: 0.4391 - val_accuracy: 0.8436\n",
            "Epoch 2/25\n",
            "938/938 [==============================] - 16s 17ms/step - loss: 0.4090 - accuracy: 0.8510 - val_loss: 0.4141 - val_accuracy: 0.8486\n",
            "Epoch 3/25\n",
            "938/938 [==============================] - 15s 16ms/step - loss: 0.3867 - accuracy: 0.8598 - val_loss: 0.4426 - val_accuracy: 0.8476\n",
            "Epoch 4/25\n",
            "938/938 [==============================] - 15s 16ms/step - loss: 0.3885 - accuracy: 0.8605 - val_loss: 0.3954 - val_accuracy: 0.8554\n",
            "Epoch 5/25\n",
            "938/938 [==============================] - 15s 16ms/step - loss: 0.3953 - accuracy: 0.8587 - val_loss: 0.4456 - val_accuracy: 0.8549\n",
            "Epoch 6/25\n",
            "938/938 [==============================] - 15s 16ms/step - loss: 0.3991 - accuracy: 0.8596 - val_loss: 0.4683 - val_accuracy: 0.8608\n",
            "Epoch 7/25\n",
            "938/938 [==============================] - 15s 16ms/step - loss: 0.4071 - accuracy: 0.8571 - val_loss: 0.4298 - val_accuracy: 0.8526\n",
            "Epoch 8/25\n",
            "938/938 [==============================] - 15s 16ms/step - loss: 0.4071 - accuracy: 0.8566 - val_loss: 0.5614 - val_accuracy: 0.8596\n",
            "Epoch 9/25\n",
            "938/938 [==============================] - 15s 16ms/step - loss: 0.4908 - accuracy: 0.8536 - val_loss: 0.5486 - val_accuracy: 0.8140\n",
            "Epoch 10/25\n",
            "938/938 [==============================] - 15s 16ms/step - loss: 0.4274 - accuracy: 0.8546 - val_loss: 0.4904 - val_accuracy: 0.8276\n",
            "Epoch 11/25\n",
            "938/938 [==============================] - 15s 16ms/step - loss: 0.4203 - accuracy: 0.8549 - val_loss: 0.4710 - val_accuracy: 0.8272\n",
            "Epoch 12/25\n",
            "938/938 [==============================] - 15s 16ms/step - loss: 0.4145 - accuracy: 0.8550 - val_loss: 0.4184 - val_accuracy: 0.8598\n",
            "Epoch 13/25\n",
            "938/938 [==============================] - 15s 16ms/step - loss: 0.4264 - accuracy: 0.8529 - val_loss: 0.6146 - val_accuracy: 0.8267\n",
            "Epoch 14/25\n",
            "938/938 [==============================] - 15s 16ms/step - loss: 0.4339 - accuracy: 0.8515 - val_loss: 0.5528 - val_accuracy: 0.8331\n",
            "Epoch 15/25\n",
            "938/938 [==============================] - 16s 17ms/step - loss: 0.4301 - accuracy: 0.8526 - val_loss: 0.4576 - val_accuracy: 0.8386\n",
            "Epoch 16/25\n",
            "938/938 [==============================] - 15s 16ms/step - loss: 0.4399 - accuracy: 0.8507 - val_loss: 0.4984 - val_accuracy: 0.8537\n",
            "Epoch 17/25\n",
            "938/938 [==============================] - 15s 16ms/step - loss: 0.4473 - accuracy: 0.8503 - val_loss: 0.6696 - val_accuracy: 0.8046\n",
            "Epoch 18/25\n",
            "938/938 [==============================] - 15s 16ms/step - loss: 0.4422 - accuracy: 0.8488 - val_loss: 0.5873 - val_accuracy: 0.8147\n",
            "Epoch 19/25\n",
            "938/938 [==============================] - 15s 16ms/step - loss: 0.4570 - accuracy: 0.8489 - val_loss: 0.5437 - val_accuracy: 0.8368\n",
            "Epoch 20/25\n",
            "938/938 [==============================] - 15s 16ms/step - loss: 0.4811 - accuracy: 0.8475 - val_loss: 0.5880 - val_accuracy: 0.8339\n",
            "Epoch 21/25\n",
            "938/938 [==============================] - 15s 16ms/step - loss: 0.4765 - accuracy: 0.8493 - val_loss: 0.4769 - val_accuracy: 0.8418\n",
            "Epoch 22/25\n",
            "938/938 [==============================] - 15s 16ms/step - loss: 0.4751 - accuracy: 0.8486 - val_loss: 0.5212 - val_accuracy: 0.8342\n",
            "Epoch 23/25\n",
            "938/938 [==============================] - 15s 16ms/step - loss: 0.5045 - accuracy: 0.8478 - val_loss: 10.9018 - val_accuracy: 0.3899\n",
            "Epoch 24/25\n",
            "938/938 [==============================] - 15s 16ms/step - loss: 0.4797 - accuracy: 0.8454 - val_loss: 0.5379 - val_accuracy: 0.8501\n",
            "Epoch 25/25\n",
            "938/938 [==============================] - 15s 16ms/step - loss: 0.5082 - accuracy: 0.8464 - val_loss: 0.5593 - val_accuracy: 0.8515\n"
          ]
        }
      ]
    },
    {
      "cell_type": "code",
      "source": [
        "score = model_3.evaluate(x_test, y_test, verbose=0)\n",
        "print('Test loss:', score[0])\n",
        "print('Test accuracy:', score[1])"
      ],
      "metadata": {
        "colab": {
          "base_uri": "https://localhost:8080/"
        },
        "id": "znlX3HSIAD-V",
        "outputId": "e6a8cab0-4a08-4b11-ddeb-5003c44dc3b6"
      },
      "execution_count": 48,
      "outputs": [
        {
          "output_type": "stream",
          "name": "stdout",
          "text": [
            "Test loss: 0.5593439936637878\n",
            "Test accuracy: 0.8514999747276306\n"
          ]
        }
      ]
    },
    {
      "cell_type": "code",
      "source": [
        "def plot_loss_accuracy(history):\n",
        "    fig = plt.figure(figsize=(12, 6))\n",
        "    ax = fig.add_subplot(1, 2, 1)\n",
        "    ax.plot(history.history[\"loss\"],'r-x', label=\"Train Loss\")\n",
        "    ax.plot(history.history[\"val_loss\"],'b-x', label=\"Validation Loss\")\n",
        "    ax.legend()\n",
        "    ax.set_title('cross_entropy loss')\n",
        "    ax.grid(True)\n",
        "\n",
        "    ax = fig.add_subplot(1, 2, 2)\n",
        "    ax.plot(history.history[\"accuracy\"],'r-x', label=\"Train Accuracy\")\n",
        "    ax.plot(history.history[\"val_accuracy\"],'b-x', label=\"Validation Accuracy\")\n",
        "    ax.legend()\n",
        "    ax.set_title('accuracy')\n",
        "    ax.grid(True)\n",
        "    \n",
        "plot_loss_accuracy(history)"
      ],
      "metadata": {
        "colab": {
          "base_uri": "https://localhost:8080/",
          "height": 390
        },
        "id": "JrFxyXKYA5Gp",
        "outputId": "8c6e1c45-5764-4b73-d25c-69f9969bbde2"
      },
      "execution_count": 49,
      "outputs": [
        {
          "output_type": "display_data",
          "data": {
            "text/plain": [
              "<Figure size 864x432 with 2 Axes>"
            ],
            "image/png": "[encoded data removed]"
          },
          "metadata": {
            "needs_background": "light"
          }
        }
      ]
    }
  ],
  "metadata": {
    "kernelspec": {
      "display_name": "Python 3 (ipykernel)",
      "language": "python",
      "name": "python3"
    },
    "language_info": {
      "codemirror_mode": {
        "name": "ipython",
        "version": 3
      },
      "file_extension": ".py",
      "mimetype": "text/x-python",
      "name": "python",
      "nbconvert_exporter": "python",
      "pygments_lexer": "ipython3",
      "version": "3.9.12"
    },
    "colab": {
      "name": "Project_MNIST.ipynb",
      "provenance": [],
      "collapsed_sections": [
        "jwiisnGEUC9u",
        "XH0NXJehUC90"
      ]
    }
  },
  "nbformat": 4,
  "nbformat_minor": 0
}